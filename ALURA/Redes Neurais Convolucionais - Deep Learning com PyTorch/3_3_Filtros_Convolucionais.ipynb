{
  "nbformat": 4,
  "nbformat_minor": 0,
  "metadata": {
    "colab": {
      "name": "3.3 - Filtros Convolucionais.ipynb",
      "provenance": [],
      "authorship_tag": "ABX9TyNiQpH4dkTveB9ES69Iv0Oq",
      "include_colab_link": true
    },
    "kernelspec": {
      "name": "python3",
      "display_name": "Python 3"
    },
    "language_info": {
      "name": "python"
    }
  },
  "cells": [
    {
      "cell_type": "markdown",
      "metadata": {
        "id": "view-in-github",
        "colab_type": "text"
      },
      "source": [
        "<a href=\"https://colab.research.google.com/github/coutinhoware/data-science/blob/main/ALURA/Redes%20Neurais%20Convolucionais%20-%20Deep%20Learning%20com%20PyTorch/3_3_Filtros_Convolucionais.ipynb\" target=\"_parent\"><img src=\"https://colab.research.google.com/assets/colab-badge.svg\" alt=\"Open In Colab\"/></a>"
      ]
    },
    {
      "cell_type": "markdown",
      "source": [
        "ALURA/Redes Neurais Convolucionais - Deep Learning com PyTorch/"
      ],
      "metadata": {
        "id": "5_o_XkhNzfs3"
      }
    },
    {
      "cell_type": "code",
      "execution_count": null,
      "metadata": {
        "id": "a6n8q5lAze9N"
      },
      "outputs": [],
      "source": [
        ""
      ]
    }
  ]
}