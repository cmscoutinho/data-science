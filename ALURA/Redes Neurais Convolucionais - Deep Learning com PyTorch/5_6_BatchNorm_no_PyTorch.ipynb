{
  "nbformat": 4,
  "nbformat_minor": 0,
  "metadata": {
    "colab": {
      "name": "5.6 - BatchNorm no PyTorch.ipynb",
      "provenance": [],
      "authorship_tag": "ABX9TyOuMdbuKcvNuR4I10YrsOLA",
      "include_colab_link": true
    },
    "kernelspec": {
      "name": "python3",
      "display_name": "Python 3"
    },
    "language_info": {
      "name": "python"
    }
  },
  "cells": [
    {
      "cell_type": "markdown",
      "metadata": {
        "id": "view-in-github",
        "colab_type": "text"
      },
      "source": [
        "<a href=\"https://colab.research.google.com/github/coutinhoware/data-science/blob/main/ALURA/Redes%20Neurais%20Convolucionais%20-%20Deep%20Learning%20com%20PyTorch/5_6_BatchNorm_no_PyTorch.ipynb\" target=\"_parent\"><img src=\"https://colab.research.google.com/assets/colab-badge.svg\" alt=\"Open In Colab\"/></a>"
      ]
    },
    {
      "cell_type": "markdown",
      "source": [
        "ALURA/Redes Neurais Convolucionais - Deep Learning com PyTorch/"
      ],
      "metadata": {
        "id": "xggaIAzO9nnd"
      }
    },
    {
      "cell_type": "code",
      "source": [
        "import torch\n",
        "from torch import nn\n",
        "\n",
        "from skimage import data\n",
        "import matplotlib.pyplot as plt"
      ],
      "metadata": {
        "id": "4v4F46TA92cI"
      },
      "execution_count": 8,
      "outputs": []
    },
    {
      "cell_type": "code",
      "source": [
        "# Camada convolucional\n",
        "\n",
        "conv = nn.Conv2d(in_channels=3, out_channels=16,\n",
        "                 kernel_size=3, padding=1)\n",
        "\n",
        "rgb = data.astronaut()\n",
        "rgb_tns = torch.Tensor(rgb)\n",
        "rgb_tns = rgb_tns.permute(2, 0, 1).unsqueeze(0)\n",
        "mapa_de_ativacao = conv(rgb_tns)\n",
        "print('Feature Map:', mapa_de_ativacao.shape)"
      ],
      "metadata": {
        "id": "EM21R_6h-Cki",
        "outputId": "56547b22-cf7f-41ba-f9fa-3eb79ef29585",
        "colab": {
          "base_uri": "https://localhost:8080/"
        }
      },
      "execution_count": 3,
      "outputs": [
        {
          "output_type": "stream",
          "name": "stdout",
          "text": [
            "Feature Map: torch.Size([1, 16, 512, 512])\n"
          ]
        }
      ]
    },
    {
      "cell_type": "code",
      "source": [
        "# Camada de subamostragem (pooling)\n",
        "\n",
        "pool = nn.MaxPool2d(kernel_size=2)\n",
        "saida = pool(mapa_de_ativacao)\n",
        "print(saida.size())"
      ],
      "metadata": {
        "id": "wvBNW7rp-XT8",
        "outputId": "e78c34b6-508f-4229-eb9a-6831943c43c0",
        "colab": {
          "base_uri": "https://localhost:8080/"
        }
      },
      "execution_count": 4,
      "outputs": [
        {
          "output_type": "stream",
          "name": "stdout",
          "text": [
            "torch.Size([1, 16, 256, 256])\n"
          ]
        }
      ]
    },
    {
      "cell_type": "code",
      "source": [
        "blococonv = nn.Sequential(\n",
        "              nn.Conv2d(3, 32, kernel_size=3, padding=1),\n",
        "              nn.BatchNorm2d(32),\n",
        "              nn.ReLU(),\n",
        "              nn.MaxPool2d(kernel_size=10)\n",
        "            )\n",
        "\n",
        "print(blococonv)\n",
        "\n",
        "print(rgb_tns.size())\n",
        "saida = blococonv(rgb_tns)\n",
        "print(saida.size())"
      ],
      "metadata": {
        "id": "9yrB-YEl-jEm",
        "outputId": "36905501-ab65-4ab5-e046-027e985a6f37",
        "colab": {
          "base_uri": "https://localhost:8080/"
        }
      },
      "execution_count": 53,
      "outputs": [
        {
          "output_type": "stream",
          "name": "stdout",
          "text": [
            "Sequential(\n",
            "  (0): Conv2d(3, 32, kernel_size=(3, 3), stride=(1, 1), padding=(1, 1))\n",
            "  (1): BatchNorm2d(32, eps=1e-05, momentum=0.1, affine=True, track_running_stats=True)\n",
            "  (2): ReLU()\n",
            "  (3): MaxPool2d(kernel_size=10, stride=10, padding=0, dilation=1, ceil_mode=False)\n",
            ")\n",
            "torch.Size([1, 3, 512, 512])\n",
            "torch.Size([1, 32, 51, 51])\n"
          ]
        }
      ]
    },
    {
      "cell_type": "markdown",
      "source": [
        "---\n",
        "### Exercício 5.7\n",
        "Explore a documentação e substitua o *pooling* utilizado no script acima por outras funções 2D, como o `AvgPool2d` ou o `AdaptiveMaxPool2d`. Note que esse último não leva como parâmetro o tamanho do *kernel*, mas sim o tamanho da saída desejada.\n",
        "\n",
        "A alteração deve ser feita na célula que define o *Pooling* na variável `pool`:\n",
        "\n",
        "`pool = nn.MaxPool2d(kernel_size=2, stride=1)`\n",
        "\n",
        "---"
      ],
      "metadata": {
        "id": "HwaoIU58Hfkn"
      }
    },
    {
      "cell_type": "code",
      "source": [
        "# pool2 = nn.MaxPool2d(kernel_size=2, stride=1)\n",
        "pool2 = nn.AvgPool2d(kernel_size=2, stride=1)\n",
        "\n",
        "print(pool2)\n",
        "saida2 = pool2(rgb_tns)\n",
        "print(saida2.size())  \n",
        "\n",
        "plt.imshow(saida2.squeeze(0).permute(1, 2, 0).detach().numpy())"
      ],
      "metadata": {
        "id": "9msRAlSbH0H8",
        "outputId": "32a26559-06fe-41e0-b8a3-899bf84198ee",
        "colab": {
          "base_uri": "https://localhost:8080/",
          "height": 341
        }
      },
      "execution_count": 63,
      "outputs": [
        {
          "output_type": "stream",
          "name": "stderr",
          "text": [
            "Clipping input data to the valid range for imshow with RGB data ([0..1] for floats or [0..255] for integers).\n"
          ]
        },
        {
          "output_type": "stream",
          "name": "stdout",
          "text": [
            "AvgPool2d(kernel_size=2, stride=1, padding=0)\n",
            "torch.Size([1, 3, 511, 511])\n"
          ]
        },
        {
          "output_type": "execute_result",
          "data": {
            "text/plain": [
              "<matplotlib.image.AxesImage at 0x7f3d39f364d0>"
            ]
          },
          "metadata": {},
          "execution_count": 63
        },
        {
          "output_type": "display_data",
          "data": {
            "text/plain": [
              "<Figure size 432x288 with 1 Axes>"
            ],
            "image/png": "[encoded data removed]"
          },
          "metadata": {
            "needs_background": "light"
          }
        }
      ]
    },
    {
      "cell_type": "code",
      "source": [
        "pool3 = nn.AdaptiveAvgPool2d(output_size=(7, 7)) # grande perda de informação se o tamanho da entrada foi muito maior que o tamanho da saída\n",
        "\n",
        "print(pool3)\n",
        "saida3 = pool3(rgb_tns)\n",
        "print(saida3.size())\n",
        "\n",
        "plt.imshow(saida3.squeeze(0).permute(1, 2, 0).detach().numpy())"
      ],
      "metadata": {
        "id": "ex4p56BRIRc5",
        "outputId": "dd245fb0-49f3-45ef-a5c5-2592eccb86b5",
        "colab": {
          "base_uri": "https://localhost:8080/",
          "height": 336
        }
      },
      "execution_count": 67,
      "outputs": [
        {
          "output_type": "stream",
          "name": "stderr",
          "text": [
            "Clipping input data to the valid range for imshow with RGB data ([0..1] for floats or [0..255] for integers).\n"
          ]
        },
        {
          "output_type": "stream",
          "name": "stdout",
          "text": [
            "AdaptiveAvgPool2d(output_size=(7, 7))\n",
            "torch.Size([1, 3, 7, 7])\n"
          ]
        },
        {
          "output_type": "execute_result",
          "data": {
            "text/plain": [
              "<matplotlib.image.AxesImage at 0x7f3d3a3c58d0>"
            ]
          },
          "metadata": {},
          "execution_count": 67
        },
        {
          "output_type": "display_data",
          "data": {
            "text/plain": [
              "<Figure size 432x288 with 1 Axes>"
            ],
            "image/png": "[encoded data removed]"
          },
          "metadata": {
            "needs_background": "light"
          }
        }
      ]
    }
  ]
}