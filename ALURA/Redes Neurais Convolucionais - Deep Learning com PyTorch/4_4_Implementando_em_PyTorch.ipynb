{
  "nbformat": 4,
  "nbformat_minor": 0,
  "metadata": {
    "colab": {
      "name": "4.4 - Implementando em PyTorch.ipynb",
      "provenance": [],
      "authorship_tag": "ABX9TyNZnLGrGiHVGRlZTw1325iW",
      "include_colab_link": true
    },
    "kernelspec": {
      "name": "python3",
      "display_name": "Python 3"
    },
    "language_info": {
      "name": "python"
    }
  },
  "cells": [
    {
      "cell_type": "markdown",
      "metadata": {
        "id": "view-in-github",
        "colab_type": "text"
      },
      "source": [
        "<a href=\"https://colab.research.google.com/github/coutinhoware/data-science/blob/main/ALURA/Redes%20Neurais%20Convolucionais%20-%20Deep%20Learning%20com%20PyTorch/4_4_Implementando_em_PyTorch.ipynb\" target=\"_parent\"><img src=\"https://colab.research.google.com/assets/colab-badge.svg\" alt=\"Open In Colab\"/></a>"
      ]
    },
    {
      "cell_type": "markdown",
      "source": [
        "ALURA/Redes Neurais Convolucionais - Deep Learning com PyTorch/"
      ],
      "metadata": {
        "id": "GcBYkig4HRNe"
      }
    },
    {
      "cell_type": "markdown",
      "source": [
        "---\n",
        "Fórmula da resolução espacial do mapa de ativação:\n",
        "\n",
        "> $X_{out}= \\left(\\frac{X_{in}-F+2P}{S}\\right)+1$\n",
        "\n",
        "Onde $X_{in}$ é o tamanho da entrada, $F$ é o tamanho do *kernel* (ou *field of view*), $P$ é o *padding* e $S$ é o *stride*.\n",
        "\n",
        " \n",
        "\n",
        "*   O cálculo é válido para cada dimensão individual, ou seja, é preciso também calcular o $Y_{out}$.\n",
        "---\n",
        "### Execício: \n",
        "Qual a resolução da saída $(X_{out},Y_{out}$) de uma camada convolucional se a imagem de entrada for $224\\times224$, o *Field of View* ($F$) for $7\\times7$, o *Stride* ($S$) for igual a $7$ e o *Padding* ($P$) for igual a $0$?\n",
        "\n",
        "Resp =\n",
        "\n",
        "*   $X_{out} = \\left(\\frac{224 - 7 +2\\times0}{7}\\right) +1 = 32$.\n",
        "*   $Y_{out} = X_{out}$, pois a imagem é quadrada.\n",
        "*   A resolução final da imagem é $32\\times32$.\n",
        "---"
      ],
      "metadata": {
        "id": "ewIC_TibeD53"
      }
    },
    {
      "cell_type": "code",
      "execution_count": null,
      "metadata": {
        "id": "xti5hfaOHGkJ"
      },
      "outputs": [],
      "source": [
        ""
      ]
    }
  ]
}