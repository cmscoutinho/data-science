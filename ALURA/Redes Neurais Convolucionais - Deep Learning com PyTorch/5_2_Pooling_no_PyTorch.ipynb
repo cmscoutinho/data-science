{
  "nbformat": 4,
  "nbformat_minor": 0,
  "metadata": {
    "colab": {
      "name": "5.2 - Pooling no PyTorch.ipynb",
      "provenance": [],
      "authorship_tag": "ABX9TyMAJmiD0GLnS+bOwm9jc714",
      "include_colab_link": true
    },
    "kernelspec": {
      "name": "python3",
      "display_name": "Python 3"
    },
    "language_info": {
      "name": "python"
    }
  },
  "cells": [
    {
      "cell_type": "markdown",
      "metadata": {
        "id": "view-in-github",
        "colab_type": "text"
      },
      "source": [
        "<a href=\"https://colab.research.google.com/github/coutinhoware/data-science/blob/main/ALURA/Redes%20Neurais%20Convolucionais%20-%20Deep%20Learning%20com%20PyTorch/5_2_Pooling_no_PyTorch.ipynb\" target=\"_parent\"><img src=\"https://colab.research.google.com/assets/colab-badge.svg\" alt=\"Open In Colab\"/></a>"
      ]
    },
    {
      "cell_type": "markdown",
      "source": [
        "ALURA/Redes Neurais Convolucionais - Deep Learning com PyTorch/"
      ],
      "metadata": {
        "id": "U1I0eUG2q5Yw"
      }
    },
    {
      "cell_type": "code",
      "source": [
        "import torch\n",
        "from torch import nn\n",
        "\n",
        "from skimage import data"
      ],
      "metadata": {
        "id": "tvvSSnx1Kkp3"
      },
      "execution_count": 2,
      "outputs": []
    },
    {
      "cell_type": "code",
      "source": [
        "# Criação de tensor exemplo para usar como entrada na camada de Pooling\n",
        "\n",
        "tns = torch.FloatTensor([ [ [1,2,3],\n",
        "                            [4,5,6],\n",
        "                            [7,8,9] ] ])\n",
        "\n",
        "pool = nn.MaxPool2d(2, stride=1) # para um stride=2, sobraria apenas 1 pixel, devido ao tamanho reduzido da entrada (tensor)\n",
        "saida = pool(tns)\n",
        "\n",
        "print(tns.size())\n",
        "print(tns)\n",
        "print(saida.size())\n",
        "print(saida)"
      ],
      "metadata": {
        "id": "UiphHdD_NyC4",
        "outputId": "7d1c4333-cd50-4f36-ff39-9e85ddbc283d",
        "colab": {
          "base_uri": "https://localhost:8080/"
        }
      },
      "execution_count": 4,
      "outputs": [
        {
          "output_type": "stream",
          "name": "stdout",
          "text": [
            "torch.Size([1, 3, 3])\n",
            "tensor([[[1., 2., 3.],\n",
            "         [4., 5., 6.],\n",
            "         [7., 8., 9.]]])\n",
            "torch.Size([1, 2, 2])\n",
            "tensor([[[5., 6.],\n",
            "         [8., 9.]]])\n"
          ]
        }
      ]
    },
    {
      "cell_type": "code",
      "source": [
        "# Camada convolucional exemplo\n",
        "\n",
        "conv = nn.Conv2d(in_channels=3, out_channels=16,\n",
        "                 kernel_size=3, padding=1)\n",
        "\n",
        "rgb = data.astronaut()\n",
        "rgb_tns = torch.Tensor(rgb)\n",
        "rgb_tns = rgb_tns.permute(2, 0, 1).unsqueeze(0)\n",
        "mapa_de_ativacao = conv(rgb_tns)\n",
        "\n",
        "print('Feature Map:', mapa_de_ativacao.shape)"
      ],
      "metadata": {
        "id": "venPQZ_TQVxF",
        "outputId": "9228bac6-ef46-4f8e-8190-ebe8e1ed9a12",
        "colab": {
          "base_uri": "https://localhost:8080/"
        }
      },
      "execution_count": 5,
      "outputs": [
        {
          "output_type": "stream",
          "name": "stdout",
          "text": [
            "Feature Map: torch.Size([1, 16, 512, 512])\n"
          ]
        }
      ]
    },
    {
      "cell_type": "code",
      "source": [
        "# Camada de Pooling\n",
        "\n",
        "pool = nn.MaxPool2d(2, stride=1)\n",
        "saida = pool(mapa_de_ativacao)\n",
        "print(saida.size())\n",
        "\n",
        "# Geralmente o stride é igual a 2. Dessa forma, a subamostragem acontece de forma satisfatória\n",
        "\n",
        "pool = nn.MaxPool2d(2)\n",
        "saida = pool(mapa_de_ativacao)\n",
        "print(saida.size())"
      ],
      "metadata": {
        "id": "RyGyKIrIQ2fX",
        "outputId": "6cf7eecd-c8e5-4e1b-ba72-ee731f9aa087",
        "colab": {
          "base_uri": "https://localhost:8080/"
        }
      },
      "execution_count": 7,
      "outputs": [
        {
          "output_type": "stream",
          "name": "stdout",
          "text": [
            "torch.Size([1, 16, 511, 511])\n",
            "torch.Size([1, 16, 256, 256])\n"
          ]
        }
      ]
    }
  ]
}