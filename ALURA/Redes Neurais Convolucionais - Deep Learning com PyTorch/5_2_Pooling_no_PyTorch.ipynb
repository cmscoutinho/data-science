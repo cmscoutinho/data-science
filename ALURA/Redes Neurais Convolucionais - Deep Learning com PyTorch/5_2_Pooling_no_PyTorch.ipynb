{
  "nbformat": 4,
  "nbformat_minor": 0,
  "metadata": {
    "colab": {
      "name": "5.2 - Pooling no PyTorch.ipynb",
      "provenance": [],
      "authorship_tag": "ABX9TyP0VdcfE/ymOo2DRIyXJevs",
      "include_colab_link": true
    },
    "kernelspec": {
      "name": "python3",
      "display_name": "Python 3"
    },
    "language_info": {
      "name": "python"
    }
  },
  "cells": [
    {
      "cell_type": "markdown",
      "metadata": {
        "id": "view-in-github",
        "colab_type": "text"
      },
      "source": [
        "<a href=\"https://colab.research.google.com/github/coutinhoware/data-science/blob/main/ALURA/Redes%20Neurais%20Convolucionais%20-%20Deep%20Learning%20com%20PyTorch/5_2_Pooling_no_PyTorch.ipynb\" target=\"_parent\"><img src=\"https://colab.research.google.com/assets/colab-badge.svg\" alt=\"Open In Colab\"/></a>"
      ]
    },
    {
      "cell_type": "markdown",
      "source": [
        "ALURA/Redes Neurais Convolucionais - Deep Learning com PyTorch/"
      ],
      "metadata": {
        "id": "U1I0eUG2q5Yw"
      }
    },
    {
      "cell_type": "code",
      "source": [
        "import torch\n",
        "from torch import nn\n",
        "\n",
        "from skimage import data"
      ],
      "metadata": {
        "id": "tvvSSnx1Kkp3"
      },
      "execution_count": null,
      "outputs": []
    }
  ]
}