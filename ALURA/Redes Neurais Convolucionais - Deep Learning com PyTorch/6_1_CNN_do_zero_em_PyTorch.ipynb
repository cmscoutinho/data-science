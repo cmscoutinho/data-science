{
  "nbformat": 4,
  "nbformat_minor": 0,
  "metadata": {
    "colab": {
      "name": "6.1 - CNN do zero em PyTorch.ipynb",
      "provenance": [],
      "authorship_tag": "ABX9TyMvbXQfrRqh8YMP0AnG+kMI",
      "include_colab_link": true
    },
    "kernelspec": {
      "name": "python3",
      "display_name": "Python 3"
    },
    "language_info": {
      "name": "python"
    }
  },
  "cells": [
    {
      "cell_type": "markdown",
      "metadata": {
        "id": "view-in-github",
        "colab_type": "text"
      },
      "source": [
        "<a href=\"https://colab.research.google.com/github/coutinhoware/data-science/blob/main/ALURA/Redes%20Neurais%20Convolucionais%20-%20Deep%20Learning%20com%20PyTorch/6_1_CNN_do_zero_em_PyTorch.ipynb\" target=\"_parent\"><img src=\"https://colab.research.google.com/assets/colab-badge.svg\" alt=\"Open In Colab\"/></a>"
      ]
    },
    {
      "cell_type": "markdown",
      "source": [
        "ALURA/Redes Neurais Convolucionais - Deep Learning com PyTorch/"
      ],
      "metadata": {
        "id": "rzFqqkrX1wjb"
      }
    },
    {
      "cell_type": "code",
      "execution_count": 1,
      "metadata": {
        "id": "-8qKZjF91wBO"
      },
      "outputs": [],
      "source": [
        "# Implementação\n",
        "import torch\n",
        "from torch import nn\n",
        "\n",
        "# Carregamento de dados\n",
        "from torch.utils.data import DataLoader\n",
        "from torchvision import datasets\n",
        "from torchvision import transforms\n",
        "\n",
        "import matplotlib.pyplot as plt"
      ]
    },
    {
      "cell_type": "code",
      "source": [
        "net = nn.Sequential(\n",
        "    # entrada\n",
        "    nn.Conv2d(3, 6 , kernel_size=5),\n",
        "    nn.BatchNorm2d(),\n",
        "    nn.Tanh(),\n",
        "    nn.AvgPool2d(),\n",
        ")"
      ],
      "metadata": {
        "id": "mmEKyqNGEqGh"
      },
      "execution_count": null,
      "outputs": []
    }
  ]
}