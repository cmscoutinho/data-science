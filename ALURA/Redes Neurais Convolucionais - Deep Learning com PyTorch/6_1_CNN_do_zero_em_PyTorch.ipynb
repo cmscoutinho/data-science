{
  "nbformat": 4,
  "nbformat_minor": 0,
  "metadata": {
    "colab": {
      "name": "6.1 - CNN do zero em PyTorch.ipynb",
      "provenance": [],
      "authorship_tag": "ABX9TyPIx3UKpivsSkrTGtRrr3n8",
      "include_colab_link": true
    },
    "kernelspec": {
      "name": "python3",
      "display_name": "Python 3"
    },
    "language_info": {
      "name": "python"
    }
  },
  "cells": [
    {
      "cell_type": "markdown",
      "metadata": {
        "id": "view-in-github",
        "colab_type": "text"
      },
      "source": [
        "<a href=\"https://colab.research.google.com/github/coutinhoware/data-science/blob/main/ALURA/Redes%20Neurais%20Convolucionais%20-%20Deep%20Learning%20com%20PyTorch/6_1_CNN_do_zero_em_PyTorch.ipynb\" target=\"_parent\"><img src=\"https://colab.research.google.com/assets/colab-badge.svg\" alt=\"Open In Colab\"/></a>"
      ]
    },
    {
      "cell_type": "markdown",
      "source": [
        "ALURA/Redes Neurais Convolucionais - Deep Learning com PyTorch/"
      ],
      "metadata": {
        "id": "rzFqqkrX1wjb"
      }
    },
    {
      "cell_type": "code",
      "execution_count": 3,
      "metadata": {
        "id": "-8qKZjF91wBO"
      },
      "outputs": [],
      "source": [
        "# Implementação\n",
        "import torch\n",
        "from torch import nn\n",
        "\n",
        "# Carregamento de dados\n",
        "from torch.utils.data import DataLoader\n",
        "from torchvision import datasets\n",
        "from torchvision import transforms\n",
        "\n",
        "import matplotlib.pyplot as plt"
      ]
    },
    {
      "cell_type": "code",
      "source": [
        "net = nn.Sequential(\n",
        "    # entrada (b, 3, 32, 32) saída (b, 6, 28, 28)\n",
        "    nn.Conv2d(3, 6, kernel_size=5),\n",
        "    nn.BatchNorm2d(6),\n",
        "    nn.Tanh(), # Função de ativação específica da LeNet\n",
        "    # entrada (b, 3, 28, 28) saída (b, 6, 14, 14)\n",
        "    nn.AvgPool2d(kernel_size=2), # Pooling específico \n",
        "\n",
        "    # entrada (b, 6, 14, 14) saída (b, 16, 10, 10)\n",
        "    nn.Conv2d(6, 16, kernel_size=5),\n",
        "    nn.BatchNorm2d(6),\n",
        "    nn.Tanh(),\n",
        "    # entrada (b, 16, 10, 10) saída (b, 16, 5, 5)\n",
        "    nn.AvgPool2d(kernel_size=2),\n",
        "\n",
        "    # entrada (b, 16, 5, 5) saída (b, 120, 1, 1)\n",
        "    nn.Conv2d(16, 120, kernel_size=5),\n",
        "    nn.BatchNorm2d(120),\n",
        "    nn.Tanh(),\n",
        "    nn.Flatten(), # função para linearizar o resultado antes de passar para as camadas FC\n",
        "\n",
        "    # entrada (b, N=120*1*1) saída (b, 84)\n",
        "    nn.Linear(120, 84),\n",
        "    nn.Tanh(),\n",
        "\n",
        "    # entrada (b, 84) saída (b, 10)\n",
        "    nn.Linear(84, 10)\n",
        ")\n",
        "\n",
        "print(net)"
      ],
      "metadata": {
        "id": "mmEKyqNGEqGh",
        "outputId": "5aa13049-cfff-4109-c6ea-1d22d9ae9b51",
        "colab": {
          "base_uri": "https://localhost:8080/"
        }
      },
      "execution_count": 4,
      "outputs": [
        {
          "output_type": "stream",
          "name": "stdout",
          "text": [
            "Sequential(\n",
            "  (0): Conv2d(3, 6, kernel_size=(5, 5), stride=(1, 1))\n",
            "  (1): BatchNorm2d(6, eps=1e-05, momentum=0.1, affine=True, track_running_stats=True)\n",
            "  (2): Tanh()\n",
            "  (3): AvgPool2d(kernel_size=2, stride=2, padding=0)\n",
            "  (4): Conv2d(6, 16, kernel_size=(5, 5), stride=(1, 1))\n",
            "  (5): BatchNorm2d(6, eps=1e-05, momentum=0.1, affine=True, track_running_stats=True)\n",
            "  (6): Tanh()\n",
            "  (7): AvgPool2d(kernel_size=2, stride=2, padding=0)\n",
            "  (8): Conv2d(16, 120, kernel_size=(5, 5), stride=(1, 1))\n",
            "  (9): BatchNorm2d(120, eps=1e-05, momentum=0.1, affine=True, track_running_stats=True)\n",
            "  (10): Tanh()\n",
            "  (11): Flatten(start_dim=1, end_dim=-1)\n",
            "  (12): Linear(in_features=120, out_features=84, bias=True)\n",
            "  (13): Tanh()\n",
            "  (14): Linear(in_features=84, out_features=10, bias=True)\n",
            ")\n"
          ]
        }
      ]
    }
  ]
}