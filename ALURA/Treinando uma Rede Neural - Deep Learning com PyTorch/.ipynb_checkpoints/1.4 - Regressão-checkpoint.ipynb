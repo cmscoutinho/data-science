{
 "cells": [
  {
   "cell_type": "code",
   "execution_count": 1,
   "metadata": {
    "id": "UalchYIbmhgs"
   },
   "outputs": [],
   "source": [
    "import torch\n",
    "from torch import nn"
   ]
  },
  {
   "cell_type": "code",
   "execution_count": 2,
   "metadata": {
    "id": "wzQv19_Iml5v"
   },
   "outputs": [],
   "source": [
    "if torch.cuda.is_available():\n",
    "  device = 'cuda'\n",
    "else:\n",
    "  device = 'cpu'"
   ]
  },
  {
   "cell_type": "code",
   "execution_count": 3,
   "metadata": {
    "colab": {
     "base_uri": "https://localhost:8080/"
    },
    "id": "Cb_lV4PimpnB",
    "outputId": "326fdecd-9d98-4753-97ef-78431332e16c"
   },
   "outputs": [
    {
     "name": "stdout",
     "output_type": "stream",
     "text": [
      "['age', 'sex', 'bmi', 'bp', 's1', 's2', 's3', 's4', 's5', 's6']\n",
      "(442, 10) (442,)\n"
     ]
    }
   ],
   "source": [
    "from sklearn import datasets\n",
    "\n",
    "diabetes = datasets.load_diabetes()\n",
    "data     = diabetes.data\n",
    "target   = diabetes.target\n",
    "\n",
    "print(diabetes.feature_names)\n",
    "print(data.shape, target.shape)"
   ]
  },
  {
   "cell_type": "code",
   "execution_count": 4,
   "metadata": {
    "id": "Nr-DbyzrnQyd"
   },
   "outputs": [],
   "source": [
    "class DiabetesRegression(nn.Module):\n",
    "\n",
    "  def __init__(self, in_size, hid_size, out_size):\n",
    "    super(DiabetesRegression, self).__init__()\n",
    "\n",
    "    self.hidden  = nn.Linear(in_size, hid_size)\n",
    "    self.relu    = nn.ReLU()\n",
    "    self.output  = nn.Linear(hid_size, out_size)\n",
    "    self.softmax = nn.Softmax()\n",
    "    \n",
    "  def forward(self, X):\n",
    "\n",
    "    feature = self.relu(self.hidden(X))\n",
    "    output  = self.softmax(self.output(feature))\n",
    "\n",
    "    return output"
   ]
  },
  {
   "cell_type": "code",
   "execution_count": 5,
   "metadata": {
    "id": "8bjgkKb-oQqy"
   },
   "outputs": [],
   "source": [
    "in_size  = data.shape[1]\n",
    "hid_size = 32\n",
    "out_size = 1 # uma dimensão, pois é regressão"
   ]
  },
  {
   "cell_type": "code",
   "execution_count": 6,
   "metadata": {
    "colab": {
     "base_uri": "https://localhost:8080/"
    },
    "id": "8dhoRRBHn2qi",
    "outputId": "aeb46698-d361-413b-c447-8467d6730f71"
   },
   "outputs": [
    {
     "name": "stdout",
     "output_type": "stream",
     "text": [
      "torch.Size([442, 10]) torch.Size([442])\n",
      "torch.float32 torch.float32\n"
     ]
    }
   ],
   "source": [
    "Xtns = torch.from_numpy(data).float().to(device)\n",
    "Ytns = torch.from_numpy(target).float().to(device)\n",
    "\n",
    "print(Xtns.shape, Ytns.shape)\n",
    "print(Xtns.dtype, Ytns.dtype)"
   ]
  },
  {
   "cell_type": "code",
   "execution_count": 7,
   "metadata": {
    "colab": {
     "base_uri": "https://localhost:8080/"
    },
    "id": "_W94KBcloEnp",
    "outputId": "27679851-00f5-4bd9-f472-dd776be3d64b"
   },
   "outputs": [
    {
     "name": "stdout",
     "output_type": "stream",
     "text": [
      "DiabetesRegression(\n",
      "  (hidden): Linear(in_features=10, out_features=32, bias=True)\n",
      "  (relu): ReLU()\n",
      "  (output): Linear(in_features=32, out_features=1, bias=True)\n",
      "  (softmax): Softmax(dim=None)\n",
      ")\n"
     ]
    }
   ],
   "source": [
    "net = DiabetesRegression(in_size, hid_size, out_size).to(device)\n",
    "\n",
    "print(net)"
   ]
  },
  {
   "cell_type": "code",
   "execution_count": 14,
   "metadata": {
    "colab": {
     "base_uri": "https://localhost:8080/"
    },
    "id": "jqld6Exiqg8s",
    "outputId": "9509d3bc-b0a9-4bec-c755-8cb9dafb7fca"
   },
   "outputs": [
    {
     "name": "stderr",
     "output_type": "stream",
     "text": [
      "C:\\Users\\Claudio\\anaconda3\\lib\\site-packages\\ipykernel_launcher.py:14: UserWarning: Implicit dimension choice for softmax has been deprecated. Change the call to include dim=X as an argument.\n",
      "  \n"
     ]
    }
   ],
   "source": [
    "criterionMSE = nn.MSELoss().to(device)\n",
    "criterionL1  = nn.L1Loss().to(device)\n",
    "\n",
    "pred = net(Xtns)"
   ]
  },
  {
   "cell_type": "code",
   "execution_count": 16,
   "metadata": {
    "colab": {
     "base_uri": "https://localhost:8080/"
    },
    "id": "umUboGYlzCV2",
    "outputId": "f477eb82-eb80-49a2-8a7b-64e2085ee96a"
   },
   "outputs": [
    {
     "name": "stdout",
     "output_type": "stream",
     "text": [
      "tensor(28771.2168, device='cuda:0') tensor(151.1335, device='cuda:0')\n"
     ]
    }
   ],
   "source": [
    "loss1 = criterionMSE(pred.squeeze(), Ytns)\n",
    "loss2 = criterionL1(pred.squeeze(), Ytns)\n",
    "\n",
    "print(loss1.data, loss2.data)"
   ]
  }
 ],
 "metadata": {
  "accelerator": "GPU",
  "colab": {
   "name": "1.4 - Regressão.ipynb",
   "provenance": []
  },
  "kernelspec": {
   "display_name": "Python 3",
   "language": "python",
   "name": "python3"
  },
  "language_info": {
   "codemirror_mode": {
    "name": "ipython",
    "version": 3
   },
   "file_extension": ".py",
   "mimetype": "text/x-python",
   "name": "python",
   "nbconvert_exporter": "python",
   "pygments_lexer": "ipython3",
   "version": "3.7.6"
  }
 },
 "nbformat": 4,
 "nbformat_minor": 1
}
