{
  "nbformat": 4,
  "nbformat_minor": 0,
  "metadata": {
    "colab": {
      "name": "1.4 - Regressão.ipynb",
      "provenance": []
    },
    "kernelspec": {
      "name": "python3",
      "display_name": "Python 3"
    },
    "language_info": {
      "name": "python"
    },
    "accelerator": "GPU"
  },
  "cells": [
    {
      "cell_type": "code",
      "execution_count": null,
      "metadata": {
        "id": "UalchYIbmhgs"
      },
      "outputs": [],
      "source": [
        "import torch\n",
        "from torch import nn"
      ]
    },
    {
      "cell_type": "code",
      "source": [
        "if torch.cuda.is_available():\n",
        "  device = 'cuda'\n",
        "else:\n",
        "  device = 'cpu'"
      ],
      "metadata": {
        "id": "wzQv19_Iml5v"
      },
      "execution_count": null,
      "outputs": []
    },
    {
      "cell_type": "code",
      "source": [
        "from sklearn import datasets\n",
        "\n",
        "diabetes = datasets.load_diabetes()\n",
        "data     = diabetes.data\n",
        "target   = diabetes.target\n",
        "\n",
        "print(diabetes.feature_names)\n",
        "print(data.shape, target.shape)"
      ],
      "metadata": {
        "colab": {
          "base_uri": "https://localhost:8080/"
        },
        "id": "Cb_lV4PimpnB",
        "outputId": "326fdecd-9d98-4753-97ef-78431332e16c"
      },
      "execution_count": null,
      "outputs": [
        {
          "output_type": "stream",
          "name": "stdout",
          "text": [
            "['age', 'sex', 'bmi', 'bp', 's1', 's2', 's3', 's4', 's5', 's6']\n",
            "(442, 10) (442,)\n"
          ]
        }
      ]
    },
    {
      "cell_type": "code",
      "source": [
        "class DiabetesRegression(nn.Module):\n",
        "\n",
        "  def __init__(self, in_size, hid_size, out_size):\n",
        "    super(DiabetesRegression, self).__init__()\n",
        "\n",
        "    self.hidden  = nn.Linear(in_size, hid_size)\n",
        "    self.relu    = nn.ReLU()\n",
        "    self.output  = nn.Linear(hid_size, out_size)\n",
        "    self.softmax = nn.Softmax()\n",
        "    \n",
        "  def forward(self, X):\n",
        "\n",
        "    feature = self.relu(self.hidden(X))\n",
        "    output  = self.softmax(self.output(feature))\n",
        "\n",
        "    return output"
      ],
      "metadata": {
        "id": "Nr-DbyzrnQyd"
      },
      "execution_count": 22,
      "outputs": []
    },
    {
      "cell_type": "code",
      "source": [
        "in_size  = data.shape[1]\n",
        "hid_size = 32\n",
        "out_size = 1 # uma dimensão, pois é regressão"
      ],
      "metadata": {
        "id": "8bjgkKb-oQqy"
      },
      "execution_count": 9,
      "outputs": []
    },
    {
      "cell_type": "code",
      "source": [
        "Xtns = torch.from_numpy(data).float().to(device)\n",
        "Ytns = torch.from_numpy(target).float().to(device)\n",
        "\n",
        "print(Xtns.shape, Ytns.shape)\n",
        "print(Xtns.dtype, Ytns.dtype)"
      ],
      "metadata": {
        "colab": {
          "base_uri": "https://localhost:8080/"
        },
        "id": "8dhoRRBHn2qi",
        "outputId": "aeb46698-d361-413b-c447-8467d6730f71"
      },
      "execution_count": 12,
      "outputs": [
        {
          "output_type": "stream",
          "name": "stdout",
          "text": [
            "torch.Size([442, 10]) torch.Size([442])\n",
            "torch.float32 torch.float32\n"
          ]
        }
      ]
    },
    {
      "cell_type": "code",
      "source": [
        "net = DiabetesRegression(in_size, hid_size, out_size).to(device)\n",
        "\n",
        "print(net)"
      ],
      "metadata": {
        "colab": {
          "base_uri": "https://localhost:8080/"
        },
        "id": "_W94KBcloEnp",
        "outputId": "27679851-00f5-4bd9-f472-dd776be3d64b"
      },
      "execution_count": 23,
      "outputs": [
        {
          "output_type": "stream",
          "name": "stdout",
          "text": [
            "DiabetesRegression(\n",
            "  (hidden): Linear(in_features=10, out_features=32, bias=True)\n",
            "  (relu): ReLU()\n",
            "  (output): Linear(in_features=32, out_features=1, bias=True)\n",
            "  (softmax): Softmax(dim=None)\n",
            ")\n"
          ]
        }
      ]
    },
    {
      "cell_type": "code",
      "source": [
        "criterion = nn.MSELoss()\n",
        "\n",
        "pred = net(Xtns)"
      ],
      "metadata": {
        "colab": {
          "base_uri": "https://localhost:8080/"
        },
        "id": "jqld6Exiqg8s",
        "outputId": "9509d3bc-b0a9-4bec-c755-8cb9dafb7fca"
      },
      "execution_count": 25,
      "outputs": [
        {
          "output_type": "stream",
          "name": "stderr",
          "text": [
            "/usr/local/lib/python3.7/dist-packages/ipykernel_launcher.py:14: UserWarning: Implicit dimension choice for softmax has been deprecated. Change the call to include dim=X as an argument.\n",
            "  \n"
          ]
        }
      ]
    },
    {
      "cell_type": "code",
      "source": [
        "loss = criterion(pred.squeeze(), Ytns)\n",
        "\n",
        "print(loss)"
      ],
      "metadata": {
        "colab": {
          "base_uri": "https://localhost:8080/"
        },
        "id": "umUboGYlzCV2",
        "outputId": "f477eb82-eb80-49a2-8a7b-64e2085ee96a"
      },
      "execution_count": 29,
      "outputs": [
        {
          "output_type": "stream",
          "name": "stdout",
          "text": [
            "torch.Size([442, 1]) torch.Size([442])\n",
            "tensor(28771.2168, device='cuda:0', grad_fn=<MseLossBackward0>)\n"
          ]
        }
      ]
    }
  ]
}