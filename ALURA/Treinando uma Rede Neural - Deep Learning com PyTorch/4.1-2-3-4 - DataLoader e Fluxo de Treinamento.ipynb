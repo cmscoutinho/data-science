{
 "cells": [
  {
   "cell_type": "code",
   "execution_count": null,
   "metadata": {
    "colab": {
     "base_uri": "https://localhost:8080/"
    },
    "id": "Owlk1zjwQ_6t",
    "outputId": "8c0a74b3-08a2-4b83-c443-9a5a73c1b605"
   },
   "outputs": [
    {
     "name": "stdout",
     "output_type": "stream",
     "text": [
      "{'batch_size': 20, 'num_workers': 4, 'device': device(type='cuda')}\n"
     ]
    }
   ],
   "source": [
    "import torch\n",
    "from torch import nn, optim\n",
    "\n",
    "from torchvision import datasets  # existe também o torchtext\n",
    "from torchvision import transforms\n",
    "\n",
    "import matplotlib.pyplot as plt\n",
    "\n",
    "from torch.utils.data import DataLoader\n",
    "\n",
    "args = {\n",
    "    'batch_size': 20,\n",
    "    'num_workers': 4\n",
    "}\n",
    "\n",
    "if torch.cuda.is_available():\n",
    "  args['device'] = torch.device('cuda')\n",
    "else:\n",
    "  args['device'] = torch.device('cpu')\n",
    "\n",
    "print(args)"
   ]
  },
  {
   "cell_type": "code",
   "execution_count": null,
   "metadata": {
    "colab": {
     "base_uri": "https://localhost:8080/"
    },
    "id": "0xgbp40uRcVD",
    "outputId": "646ea34a-7482-4e4b-b19b-889c87c55aff"
   },
   "outputs": [
    {
     "name": "stdout",
     "output_type": "stream",
     "text": [
      "Amostras de treino: 60000\n",
      "Amostras de teste: 10000\n"
     ]
    }
   ],
   "source": [
    "train_set = datasets.MNIST('./',\n",
    "                           train=True,\n",
    "                           transform=transforms.ToTensor(),\n",
    "                           download=True)\n",
    "\n",
    "test_set = datasets.MNIST('./',\n",
    "                           train=False,\n",
    "                           transform=transforms.ToTensor(),\n",
    "                           download=False)\n",
    "\n",
    "print('Amostras de treino: ' + str(len(train_set)) + '\\nAmostras de teste: ' + str(len(test_set)))"
   ]
  },
  {
   "cell_type": "code",
   "execution_count": null,
   "metadata": {
    "colab": {
     "base_uri": "https://localhost:8080/"
    },
    "id": "wRhagdyXTSq4",
    "outputId": "42cce14a-4370-4767-aec4-d43137f4d242"
   },
   "outputs": [
    {
     "name": "stdout",
     "output_type": "stream",
     "text": [
      "<class 'torchvision.datasets.mnist.MNIST'>\n",
      "<class 'tuple'>\n"
     ]
    }
   ],
   "source": [
    "# O conjunto de dados é uma classe específica do dataset\n",
    "# Por isso, é importante implementar uma classe sempre que formos utilizar/criar um\n",
    "# Cada elemento do conjunto é uma TUPLA (dado, rótulo). O dado, nesse caso é uma imagem e o rótulo é sua classe\n",
    "\n",
    "print(type(train_set))\n",
    "print(type(train_set[0]))"
   ]
  },
  {
   "cell_type": "code",
   "execution_count": null,
   "metadata": {
    "colab": {
     "base_uri": "https://localhost:8080/",
     "height": 809
    },
    "id": "M4hl618rVhNh",
    "outputId": "ab9ae31c-60d4-4502-e12a-e5374368b3aa"
   },
   "outputs": [
    {
     "data": {
      "image/png": "[encoded data removed]",
      "text/plain": [
       "<Figure size 432x288 with 1 Axes>"
      ]
     },
     "metadata": {
      "needs_background": "light"
     },
     "output_type": "display_data"
    },
    {
     "data": {
      "image/png": "[encoded data removed]",
      "text/plain": [
       "<Figure size 432x288 with 1 Axes>"
      ]
     },
     "metadata": {
      "needs_background": "light"
     },
     "output_type": "display_data"
    },
    {
     "data": {
      "image/png": "[encoded data removed]",
      "text/plain": [
       "<Figure size 432x288 with 1 Axes>"
      ]
     },
     "metadata": {
      "needs_background": "light"
     },
     "output_type": "display_data"
    }
   ],
   "source": [
    "for i in range(3):\n",
    "  dado, rotulo = train_set[i]\n",
    "\n",
    "  plt.figure()\n",
    "  plt.imshow(dado[0])\n",
    "  plt.title('Rotulo: '+ str(rotulo))"
   ]
  },
  {
   "cell_type": "code",
   "execution_count": null,
   "metadata": {
    "colab": {
     "base_uri": "https://localhost:8080/",
     "height": 861
    },
    "id": "azfSNskxWycs",
    "outputId": "7aac70fb-9083-45fc-bd4c-bd851b017b57"
   },
   "outputs": [
    {
     "name": "stdout",
     "output_type": "stream",
     "text": [
      "<class 'PIL.Image.Image'>\n",
      "<class 'PIL.Image.Image'>\n",
      "<class 'PIL.Image.Image'>\n"
     ]
    },
    {
     "data": {
      "image/png": "[encoded data removed]",
      "text/plain": [
       "<Figure size 432x288 with 1 Axes>"
      ]
     },
     "metadata": {
      "needs_background": "light"
     },
     "output_type": "display_data"
    },
    {
     "data": {
      "image/png": "[encoded data removed]",
      "text/plain": [
       "<Figure size 432x288 with 1 Axes>"
      ]
     },
     "metadata": {
      "needs_background": "light"
     },
     "output_type": "display_data"
    },
    {
     "data": {
      "image/png": "[encoded data removed]",
      "text/plain": [
       "<Figure size 432x288 with 1 Axes>"
      ]
     },
     "metadata": {
      "needs_background": "light"
     },
     "output_type": "display_data"
    }
   ],
   "source": [
    "# Podemos alterar a transformação para o RandomCrop, mostrando que podemos usar versões \"recortadas\" de cada imagem\n",
    "# Detalhe que agora, os dados são imagens, não tensores\n",
    "train_set = datasets.MNIST('./',\n",
    "                           train=True,\n",
    "                           transform=transforms.RandomCrop(12),\n",
    "                           download=False)\n",
    "\n",
    "for i in range(3):\n",
    "  dado, rotulo = train_set[0]\n",
    "\n",
    "  print(type(dado))\n",
    "\n",
    "  plt.figure()\n",
    "  plt.imshow(dado)\n",
    "  plt.title('Rotulo: '+ str(rotulo))"
   ]
  },
  {
   "cell_type": "markdown",
   "metadata": {
    "id": "keL2AldRZZ3L"
   },
   "source": [
    "# Dataloader\n",
    "\n",
    "### Funcionalidade muito útil do PyTorch, que fornece as seguintes funcionalidades:\n",
    "\n",
    "*   Separação dos dados em batches\n",
    "*   Embaralhamento dos dados\n",
    "*   Carregamento dos batches em paralelo utilizando *threads*\n",
    "\n",
    "\n",
    "##### Sintaxe: \n",
    "\n",
    "```\n",
    "train_loader = DataLoader(dataset, batch_size=4, shuffle=True, num_workers=4)\n",
    "```\n",
    "\n",
    "```\n",
    "*   dataset: conjunto de dados de treino\n",
    "*   batch_size: tamanho do batch\n",
    "*   shuffle: flag do embaralhamento\n",
    "*   num_workers: número de threads paralelas\n",
    "```\n",
    "\n",
    "\n",
    "\n",
    "\n"
   ]
  },
  {
   "cell_type": "code",
   "execution_count": null,
   "metadata": {
    "colab": {
     "base_uri": "https://localhost:8080/"
    },
    "id": "Sr2HkEHdXpek",
    "outputId": "1c57f5ad-9589-41e2-fb8e-fb168328cc78"
   },
   "outputs": [
    {
     "name": "stderr",
     "output_type": "stream",
     "text": [
      "/usr/local/lib/python3.7/dist-packages/torch/utils/data/dataloader.py:481: UserWarning: This DataLoader will create 4 worker processes in total. Our suggested max number of worker in current system is 2, which is smaller than what this DataLoader is going to create. Please be aware that excessive worker creation might get DataLoader running slow or even freeze, lower the worker number to avoid potential slowness/freeze if necessary.\n",
      "  cpuset_checked))\n"
     ]
    }
   ],
   "source": [
    "train_loader = DataLoader(train_set,\n",
    "                          batch_size=args['batch_size'],\n",
    "                          shuffle=True,\n",
    "                          num_workers=args['num_workers'])\n",
    "\n",
    "# Obs: lembrar de utilizar a transformação transform.ToTensor() antes de executar esta célula\n",
    "test_loader = DataLoader(test_set,\n",
    "                          batch_size=args['batch_size'],\n",
    "                          shuffle=True,\n",
    "                          num_workers=args['num_workers'])"
   ]
  },
  {
   "cell_type": "code",
   "execution_count": null,
   "metadata": {
    "colab": {
     "base_uri": "https://localhost:8080/",
     "height": 353
    },
    "id": "AI3RlY1bbUFs",
    "outputId": "375736d0-72f7-4d96-85ad-640aad7143bf"
   },
   "outputs": [
    {
     "name": "stderr",
     "output_type": "stream",
     "text": [
      "/usr/local/lib/python3.7/dist-packages/torch/utils/data/dataloader.py:481: UserWarning: This DataLoader will create 4 worker processes in total. Our suggested max number of worker in current system is 2, which is smaller than what this DataLoader is going to create. Please be aware that excessive worker creation might get DataLoader running slow or even freeze, lower the worker number to avoid potential slowness/freeze if necessary.\n",
      "  cpuset_checked))\n"
     ]
    },
    {
     "name": "stdout",
     "output_type": "stream",
     "text": [
      "torch.Size([20, 1, 28, 28]) torch.Size([20])\n"
     ]
    },
    {
     "data": {
      "image/png": "[encoded data removed]",
      "text/plain": [
       "<Figure size 432x288 with 1 Axes>"
      ]
     },
     "metadata": {
      "needs_background": "light"
     },
     "output_type": "display_data"
    }
   ],
   "source": [
    "for batch in train_loader:\n",
    "\n",
    "  dado, rotulo = batch\n",
    "  print(dado.size(), rotulo.size())\n",
    "\n",
    "  plt.imshow(dado[0][0])\n",
    "  plt.title('Rotulo: ' + str(rotulo[0]))\n",
    "\n",
    "  break"
   ]
  }
 ],
 "metadata": {
  "accelerator": "GPU",
  "colab": {
   "name": "4.ipynb",
   "provenance": []
  },
  "kernelspec": {
   "display_name": "Python 3",
   "language": "python",
   "name": "python3"
  },
  "language_info": {
   "codemirror_mode": {
    "name": "ipython",
    "version": 3
   },
   "file_extension": ".py",
   "mimetype": "text/x-python",
   "name": "python",
   "nbconvert_exporter": "python",
   "pygments_lexer": "ipython3",
   "version": "3.7.6"
  }
 },
 "nbformat": 4,
 "nbformat_minor": 1
}
