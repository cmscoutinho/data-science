{
 "cells": [
  {
   "cell_type": "code",
   "execution_count": 1,
   "metadata": {},
   "outputs": [],
   "source": [
    "import torch\n",
    "from torch import nn"
   ]
  },
  {
   "cell_type": "code",
   "execution_count": 2,
   "metadata": {},
   "outputs": [],
   "source": [
    "if torch.cuda.is_available():\n",
    "    device = torch.device('cuda')\n",
    "else:\n",
    "    device = torch.device('cpu')"
   ]
  },
  {
   "cell_type": "code",
   "execution_count": 3,
   "metadata": {},
   "outputs": [
    {
     "name": "stdout",
     "output_type": "stream",
     "text": [
      "(178, 13) (178,)\n",
      "['alcohol', 'malic_acid', 'ash', 'alcalinity_of_ash', 'magnesium', 'total_phenols', 'flavanoids', 'nonflavanoid_phenols', 'proanthocyanins', 'color_intensity', 'hue', 'od280/od315_of_diluted_wines', 'proline'] ['class_0' 'class_1' 'class_2']\n"
     ]
    }
   ],
   "source": [
    "from sklearn import datasets\n",
    "\n",
    "wine = datasets.load_wine()\n",
    "data = wine.data\n",
    "target = wine.target\n",
    "\n",
    "print(data.shape, target.shape)\n",
    "print(wine.feature_names, wine.target_names)"
   ]
  },
  {
   "cell_type": "code",
   "execution_count": 9,
   "metadata": {},
   "outputs": [],
   "source": [
    "class WineClassifier(nn.Module):\n",
    "    def __init__(self, input_size, hidden_size, output_size):\n",
    "        super(WineClassifier, self).__init__()\n",
    "        \n",
    "        self.hidden  = nn.Linear(in_features=input_size, out_features=hidden_size)\n",
    "        self.relu    = nn.ReLU()\n",
    "        self.output  = nn.Linear(in_features=hidden_size, out_features=output_size)\n",
    "        self.softmax = nn.Softmax()\n",
    "        \n",
    "    def forward(self, X):\n",
    "        \n",
    "        feature = self.relu(self.hidden(X))\n",
    "        output  = self.softmax(self.output(feature))\n",
    "        \n",
    "        return output"
   ]
  },
  {
   "cell_type": "code",
   "execution_count": 10,
   "metadata": {},
   "outputs": [],
   "source": [
    "input_size  = data.shape[1] # número de dimensões\n",
    "# input_size  = len(wine.feature_names)\n",
    "hidden_size = 32 # hiperparâmetro escolhido\n",
    "output_size = len(wine.target_names) # número de classes de saída"
   ]
  },
  {
   "cell_type": "code",
   "execution_count": 11,
   "metadata": {},
   "outputs": [
    {
     "name": "stdout",
     "output_type": "stream",
     "text": [
      "WineClassifier(\n",
      "  (hidden): Linear(in_features=13, out_features=32, bias=True)\n",
      "  (relu): ReLU()\n",
      "  (output): Linear(in_features=32, out_features=3, bias=True)\n",
      "  (softmax): Softmax(dim=None)\n",
      ")\n"
     ]
    }
   ],
   "source": [
    "net = WineClassifier(input_size, hidden_size, output_size).to(device)\n",
    "print(net)"
   ]
  },
  {
   "cell_type": "code",
   "execution_count": 12,
   "metadata": {},
   "outputs": [],
   "source": [
    "criterion = nn.CrossEntropyLoss().to(device)"
   ]
  },
  {
   "cell_type": "code",
   "execution_count": 13,
   "metadata": {},
   "outputs": [
    {
     "name": "stdout",
     "output_type": "stream",
     "text": [
      "torch.float32 torch.int64\n"
     ]
    }
   ],
   "source": [
    "# É preciso primeiramente transformar os dados em tensores (eram ndarrays)\n",
    "Xtns = torch.from_numpy(data).float()  # era torch.float64 (double) -> converte para torch.float32\n",
    "Ytns = torch.from_numpy(target).long() # era torch.int32 -> converte para torch.int64 (long)\n",
    "\n",
    "Xtns = Xtns.to(device)\n",
    "Ytns = Ytns.to(device)\n",
    "\n",
    "print(Xtns.dtype, Ytns.dtype)"
   ]
  },
  {
   "cell_type": "code",
   "execution_count": 14,
   "metadata": {},
   "outputs": [
    {
     "name": "stderr",
     "output_type": "stream",
     "text": [
      "C:\\Users\\Claudio\\anaconda3\\lib\\site-packages\\ipykernel_launcher.py:13: UserWarning: Implicit dimension choice for softmax has been deprecated. Change the call to include dim=X as an argument.\n",
      "  del sys.path[0]\n"
     ]
    }
   ],
   "source": [
    "pred = net(Xtns)"
   ]
  },
  {
   "cell_type": "code",
   "execution_count": 15,
   "metadata": {},
   "outputs": [
    {
     "name": "stdout",
     "output_type": "stream",
     "text": [
      "torch.Size([178, 3]) torch.Size([178])\n",
      "tensor([0., 0., 1.], device='cuda:0') tensor(0, device='cuda:0')\n"
     ]
    }
   ],
   "source": [
    "print(pred.shape, Ytns.shape) # tamanho da saída predita\n",
    "\n",
    "print(pred[0].data, Ytns[0].data) # predição de uma única instância"
   ]
  },
  {
   "cell_type": "code",
   "execution_count": 17,
   "metadata": {},
   "outputs": [
    {
     "name": "stdout",
     "output_type": "stream",
     "text": [
      "tensor(1.2818, device='cuda:0', grad_fn=<NllLossBackward0>)\n"
     ]
    }
   ],
   "source": [
    "loss = criterion(pred, Ytns)\n",
    "print(loss)"
   ]
  }
 ],
 "metadata": {
  "kernelspec": {
   "display_name": "Python 3",
   "language": "python",
   "name": "python3"
  },
  "language_info": {
   "codemirror_mode": {
    "name": "ipython",
    "version": 3
   },
   "file_extension": ".py",
   "mimetype": "text/x-python",
   "name": "python",
   "nbconvert_exporter": "python",
   "pygments_lexer": "ipython3",
   "version": "3.7.6"
  }
 },
 "nbformat": 4,
 "nbformat_minor": 4
}
