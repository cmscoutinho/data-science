{
 "cells": [
  {
   "cell_type": "code",
   "execution_count": 106,
   "metadata": {},
   "outputs": [],
   "source": [
    "import torch\n",
    "from torch import nn"
   ]
  },
  {
   "cell_type": "code",
   "execution_count": 110,
   "metadata": {},
   "outputs": [
    {
     "name": "stdout",
     "output_type": "stream",
     "text": [
      "Sequential(\n",
      "  (0): Linear(in_features=3, out_features=6, bias=True)\n",
      "  (1): ReLU()\n",
      "  (2): Linear(in_features=6, out_features=3, bias=True)\n",
      ")\n"
     ]
    }
   ],
   "source": [
    "input_size = 3\n",
    "hidden_size = 6\n",
    "output_size = 3\n",
    "\n",
    "net_seq = nn.Sequential(nn.Linear(in_features=input_size, out_features=hidden_size), \n",
    "                        nn.ReLU(), \n",
    "                        nn.Linear(in_features=hidden_size, out_features=output_size))\n",
    "\n",
    "print(net_seq)"
   ]
  },
  {
   "cell_type": "code",
   "execution_count": 112,
   "metadata": {},
   "outputs": [],
   "source": [
    "class Net(nn.Module):\n",
    "    def __init__(self, input_size, hidden_size, output_size):\n",
    "        super(Net, self).__init__()\n",
    "        \n",
    "        self.hidden = nn.Linear(in_features=input_size, out_features=hidden_size)\n",
    "        self.relu   = nn.ReLU()\n",
    "        self.output = nn.Linear(in_features=hidden_size, out_features=output_size)\n",
    "        \n",
    "        \n",
    "    def forward():\n",
    "        hidden = self.relu(self.hidden)\n",
    "        output = self.output(hidden)\n",
    "        \n",
    "        return output        "
   ]
  },
  {
   "cell_type": "code",
   "execution_count": 114,
   "metadata": {},
   "outputs": [
    {
     "name": "stdout",
     "output_type": "stream",
     "text": [
      "Net(\n",
      "  (hidden): Linear(in_features=3, out_features=6, bias=True)\n",
      "  (relu): ReLU()\n",
      "  (output): Linear(in_features=6, out_features=3, bias=True)\n",
      ")\n"
     ]
    }
   ],
   "source": [
    "net_module = Net(input_size=3, hidden_size=6, output_size=3)\n",
    "\n",
    "print(net_module)"
   ]
  }
 ],
 "metadata": {
  "kernelspec": {
   "display_name": "Python 3",
   "language": "python",
   "name": "python3"
  },
  "language_info": {
   "codemirror_mode": {
    "name": "ipython",
    "version": 3
   },
   "file_extension": ".py",
   "mimetype": "text/x-python",
   "name": "python",
   "nbconvert_exporter": "python",
   "pygments_lexer": "ipython3",
   "version": "3.7.6"
  }
 },
 "nbformat": 4,
 "nbformat_minor": 4
}
