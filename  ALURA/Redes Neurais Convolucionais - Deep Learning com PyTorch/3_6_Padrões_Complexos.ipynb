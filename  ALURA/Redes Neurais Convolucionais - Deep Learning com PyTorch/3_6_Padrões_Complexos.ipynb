{
  "nbformat": 4,
  "nbformat_minor": 0,
  "metadata": {
    "colab": {
      "name": "3.6 - Padrões Complexos.ipynb",
      "provenance": [],
      "authorship_tag": "ABX9TyNiQpH4dkTveB9ES69Iv0Oq",
      "include_colab_link": true
    },
    "kernelspec": {
      "name": "python3",
      "display_name": "Python 3"
    },
    "language_info": {
      "name": "python"
    }
  },
  "cells": [
    {
      "cell_type": "markdown",
      "metadata": {
        "id": "view-in-github",
        "colab_type": "text"
      },
      "source": [
        "<a href=\"https://colab.research.google.com/github/coutinhoware/data-science/blob/main/%20ALURA/Redes%20Neurais%20Convolucionais%20-%20Deep%20Learning%20com%20PyTorch/3_6_Padr%C3%B5es_Complexos.ipynb\" target=\"_parent\"><img src=\"https://colab.research.google.com/assets/colab-badge.svg\" alt=\"Open In Colab\"/></a>"
      ]
    },
    {
      "cell_type": "markdown",
      "source": [
        "ALURA/Redes Neurais Convolucionais - Deep Learning com PyTorch/"
      ],
      "metadata": {
        "id": "14qeIxI14uqL"
      }
    },
    {
      "cell_type": "code",
      "execution_count": null,
      "metadata": {
        "id": "S3K5gNEX4tMZ"
      },
      "outputs": [],
      "source": [
        ""
      ]
    }
  ]
}